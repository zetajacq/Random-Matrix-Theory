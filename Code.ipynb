{
 "cells": [
  {
   "cell_type": "markdown",
   "metadata": {},
   "source": [
    "## Experimental results : denoising a known covariance matrix"
   ]
  },
  {
   "cell_type": "markdown",
   "metadata": {},
   "source": [
    "We generate a vector of means and a covariance matrix out of 10 blocks of size 50\n",
    "each, where off-diagonal elements within each block have a correlation of 0.5.\n",
    "\n",
    "- This covariance matrix is a stylized representation of a “true” (non-empirical) de-toned correlation\n",
    "matrix of the S&P 500, where each block is associated with an economic sector.\n",
    "\n",
    "- Without loss of generality, the variances are drawn from a uniform distribution bounded between\n",
    "5% and 20%, and the vector of means is drawn from a Normal distribution with mean and standard\n",
    "deviation equal to the standard deviation from the covariance matrix."
   ]
  },
  {
   "cell_type": "code",
   "execution_count": 2,
   "metadata": {},
   "outputs": [],
   "source": [
    "# Import library\n",
    "import numpy as np\n",
    "from scipy.linalg import block_diag"
   ]
  },
  {
   "cell_type": "markdown",
   "metadata": {},
   "source": [
    "#### The real covariance matrix"
   ]
  },
  {
   "cell_type": "code",
   "execution_count": 3,
   "metadata": {},
   "outputs": [],
   "source": [
    "# Generate our covariance matrix\n",
    "Nb_blocks = 10\n",
    "block_size = 50\n",
    "block_list = []\n",
    "for i in range(Nb_blocks):\n",
    "    sd = np.sqrt(np.random.uniform(0.05,0.2,50))\n",
    "    sd = sd[:,np.newaxis]\n",
    "    C = sd @ np.transpose(sd) \n",
    "    diag = np.diag(C)\n",
    "    C = C * 0.5\n",
    "    np.fill_diagonal(C, diag)\n",
    "    block_list.append(C)\n",
    "\n",
    "Cov = block_diag(*block_list)\n"
   ]
  },
  {
   "cell_type": "code",
   "execution_count": 4,
   "metadata": {},
   "outputs": [],
   "source": [
    "# Generate mean\n",
    "sd = np.sqrt(np.diag(Cov))\n",
    "mu = np.random.multivariate_normal(sd, Cov)"
   ]
  },
  {
   "cell_type": "code",
   "execution_count": null,
   "metadata": {},
   "outputs": [],
   "source": [
    "# "
   ]
  },
  {
   "cell_type": "markdown",
   "metadata": {},
   "source": [
    "#### The estimated covariance matrix with noise"
   ]
  },
  {
   "cell_type": "code",
   "execution_count": 5,
   "metadata": {},
   "outputs": [],
   "source": [
    "# Generate observation matrix X\n",
    "T = 1000\n",
    "X = np.random.multivariate_normal(mu, Cov, T)"
   ]
  },
  {
   "cell_type": "code",
   "execution_count": 11,
   "metadata": {},
   "outputs": [],
   "source": [
    "# Estimation without denoising\n",
    "mu_hat = np.mean(X, axis = 0)\n",
    "mu_hat = mu_hat[:,np.newaxis]\n",
    "Cov_hat = 1 / T * np.transpose(X) @ X - mu_hat @ np.transpose(mu_hat)"
   ]
  },
  {
   "cell_type": "code",
   "execution_count": null,
   "metadata": {},
   "outputs": [],
   "source": []
  },
  {
   "cell_type": "code",
   "execution_count": null,
   "metadata": {},
   "outputs": [
    {
     "data": {
      "text/plain": [
       "array([[ 0.06446442,  0.03672934,  0.03469825, ...,  0.00120579,\n",
       "         0.00628106,  0.00342042],\n",
       "       [ 0.03672934,  0.07639448,  0.03859445, ..., -0.0013556 ,\n",
       "         0.00249582,  0.0027892 ],\n",
       "       [ 0.03469825,  0.03859445,  0.08104439, ..., -0.00203891,\n",
       "         0.00092735,  0.00265532],\n",
       "       ...,\n",
       "       [ 0.00120579, -0.0013556 , -0.00203891, ...,  0.12715881,\n",
       "         0.06235577,  0.06431007],\n",
       "       [ 0.00628106,  0.00249582,  0.00092735, ...,  0.06235577,\n",
       "         0.12786054,  0.06270964],\n",
       "       [ 0.00342042,  0.0027892 ,  0.00265532, ...,  0.06431007,\n",
       "         0.06270964,  0.12849574]])"
      ]
     },
     "execution_count": 12,
     "metadata": {},
     "output_type": "execute_result"
    }
   ],
   "source": [
    "# Heatmap "
   ]
  },
  {
   "cell_type": "markdown",
   "metadata": {},
   "source": [
    "#### The denoised covariance matrix"
   ]
  }
 ],
 "metadata": {
  "kernelspec": {
   "display_name": "Python 3",
   "language": "python",
   "name": "python3"
  },
  "language_info": {
   "codemirror_mode": {
    "name": "ipython",
    "version": 3
   },
   "file_extension": ".py",
   "mimetype": "text/x-python",
   "name": "python",
   "nbconvert_exporter": "python",
   "pygments_lexer": "ipython3",
   "version": "3.9.6"
  }
 },
 "nbformat": 4,
 "nbformat_minor": 2
}
