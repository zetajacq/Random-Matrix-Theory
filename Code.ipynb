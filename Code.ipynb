{
 "cells": [
  {
   "cell_type": "markdown",
   "metadata": {},
   "source": [
    "## Experimental results : denoising a known covariance matrix"
   ]
  },
  {
   "cell_type": "markdown",
   "metadata": {},
   "source": [
    "We generate a vector of means and a covariance matrix out of 10 blocks of size 50\n",
    "each, where off-diagonal elements within each block have a correlation of 0.5.\n",
    "\n",
    "- This covariance matrix is a stylized representation of a “true” (non-empirical) de-toned correlation\n",
    "matrix of the S&P 500, where each block is associated with an economic sector.\n",
    "\n",
    "- Without loss of generality, the variances are drawn from a uniform distribution bounded between\n",
    "5% and 20%, and the vector of means is drawn from a Normal distribution with mean and standard\n",
    "deviation equal to the standard deviation from the covariance matrix."
   ]
  },
  {
   "cell_type": "code",
   "execution_count": 112,
   "metadata": {},
   "outputs": [],
   "source": [
    "# Import library\n",
    "import numpy as np\n",
    "from scipy.linalg import block_diag"
   ]
  },
  {
   "cell_type": "markdown",
   "metadata": {},
   "source": [
    "#### The real covariance matrix"
   ]
  },
  {
   "cell_type": "code",
   "execution_count": 113,
   "metadata": {},
   "outputs": [],
   "source": [
    "# Generate our covariance matrix\n",
    "Nb_blocks = 10\n",
    "block_size = 50\n",
    "block_list = []\n",
    "for i in range(Nb_blocks):\n",
    "    sd = np.sqrt(np.random.uniform(0.05,0.2,50))\n",
    "    sd = sd[:,np.newaxis]\n",
    "    C = sd @ np.transpose(sd) \n",
    "    diag = np.diag(C)\n",
    "    C = C * 0.5\n",
    "    np.fill_diagonal(C, diag)\n",
    "    block_list.append(C)\n",
    "\n",
    "Cov = block_diag(*block_list)\n"
   ]
  },
  {
   "cell_type": "code",
   "execution_count": 114,
   "metadata": {},
   "outputs": [],
   "source": [
    "# Generate mean\n",
    "sd = np.sqrt(np.diag(Cov))\n",
    "mu = np.random.multivariate_normal(sd, Cov)"
   ]
  },
  {
   "cell_type": "code",
   "execution_count": 115,
   "metadata": {},
   "outputs": [],
   "source": [
    "# The minimum-variance weight \n",
    "ones = np.ones((500,1))\n",
    "w = np.linalg.inv(Cov) @ ones / (np.transpose(ones) @ np.linalg.inv(Cov) @ ones)"
   ]
  },
  {
   "cell_type": "markdown",
   "metadata": {},
   "source": [
    "#### The estimated covariance matrix with noise"
   ]
  },
  {
   "cell_type": "code",
   "execution_count": 116,
   "metadata": {},
   "outputs": [
    {
     "name": "stdout",
     "output_type": "stream",
     "text": [
      "0.006142104194258463\n"
     ]
    }
   ],
   "source": [
    "T = 1000\n",
    "# Generate observation matrix X\n",
    "X = np.random.multivariate_normal(mu, Cov, T)\n",
    "# Estimation without denoising\n",
    "mu_hat = np.mean(X, axis = 0)\n",
    "mu_hat = mu_hat[:,np.newaxis]\n",
    "Cov_hat = 1 / T * np.transpose(X) @ X - mu_hat @ np.transpose(mu_hat)\n",
    "Cov_hat[Cov_hat < 0] = 0\n",
    "w_hat = np.linalg.inv(Cov_hat) @ ones / (np.transpose(ones) @ np.linalg.inv(Cov_hat) @ ones)\n",
    "rmse = np.sqrt(np.mean((w_hat-w)**2))\n",
    "print(rmse)"
   ]
  },
  {
   "cell_type": "markdown",
   "metadata": {},
   "source": [
    "#### The denoised covariance matrix"
   ]
  },
  {
   "cell_type": "code",
   "execution_count": 117,
   "metadata": {},
   "outputs": [],
   "source": [
    "q = Nb_blocks * block_size / T\n",
    "# Lambda max for a correlation matrix is\n",
    "lmax = (1 + np.sqrt(q)) ** 2"
   ]
  },
  {
   "cell_type": "code",
   "execution_count": null,
   "metadata": {},
   "outputs": [],
   "source": [
    "diag_cov_hat_inv_sqrt = np.diag(1 / np.sqrt(np.diag(Cov_hat)))\n",
    "Corr_hat = diag_cov_hat_inv_sqrt @ Cov_hat @ diag_cov_hat_inv_sqrt"
   ]
  },
  {
   "cell_type": "code",
   "execution_count": 137,
   "metadata": {},
   "outputs": [],
   "source": [
    "eig = np.linalg.eig(Corr_hat)\n",
    "u_hat = eig.eigenvectors\n",
    "l_hat = eig.eigenvalues"
   ]
  },
  {
   "cell_type": "code",
   "execution_count": 140,
   "metadata": {},
   "outputs": [],
   "source": [
    "l_hat[l_hat <= lmax] = np.mean(l_hat[l_hat < lmax])"
   ]
  },
  {
   "cell_type": "code",
   "execution_count": 141,
   "metadata": {},
   "outputs": [],
   "source": [
    "Corr_cleaned = u_hat @ np.diag(l_hat) @ u_hat.T"
   ]
  },
  {
   "cell_type": "code",
   "execution_count": null,
   "metadata": {},
   "outputs": [],
   "source": [
    "diag_corr = np.diag(1 / np.sqrt(np.diag(Corr_cleaned)))\n",
    "Corr_cleaned = diag_corr @ Corr_cleaned @ diag_corr"
   ]
  },
  {
   "cell_type": "code",
   "execution_count": 147,
   "metadata": {},
   "outputs": [],
   "source": [
    "diag_cov_hat_sqrt = np.diag(np.diag(Cov_hat))\n",
    "Cov_cleaned = diag_cov_hat_sqrt @ Corr_cleaned @ diag_cov_hat_sqrt"
   ]
  },
  {
   "cell_type": "code",
   "execution_count": 157,
   "metadata": {},
   "outputs": [
    {
     "name": "stdout",
     "output_type": "stream",
     "text": [
      "0.0023325564843126915\n"
     ]
    }
   ],
   "source": [
    "w_cleaned = np.linalg.inv(Cov_cleaned) @ ones / (np.transpose(ones) @ np.linalg.inv(Cov_cleaned) @ ones)\n",
    "rmse_cleaned = np.sqrt(np.mean((w_cleaned-w)**2))\n",
    "print(rmse_cleaned)"
   ]
  },
  {
   "cell_type": "code",
   "execution_count": 158,
   "metadata": {},
   "outputs": [
    {
     "name": "stdout",
     "output_type": "stream",
     "text": [
      "0.006142104194258463\n",
      "0.0023325564843126915\n"
     ]
    }
   ],
   "source": [
    "print(rmse)\n",
    "print(rmse_cleaned)"
   ]
  }
 ],
 "metadata": {
  "kernelspec": {
   "display_name": "Python 3",
   "language": "python",
   "name": "python3"
  },
  "language_info": {
   "codemirror_mode": {
    "name": "ipython",
    "version": 3
   },
   "file_extension": ".py",
   "mimetype": "text/x-python",
   "name": "python",
   "nbconvert_exporter": "python",
   "pygments_lexer": "ipython3",
   "version": "3.9.6"
  }
 },
 "nbformat": 4,
 "nbformat_minor": 2
}
